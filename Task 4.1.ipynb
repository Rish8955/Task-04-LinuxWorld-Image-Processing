{
 "cells": [
  {
   "cell_type": "markdown",
   "id": "e70bd710",
   "metadata": {},
   "source": [
    "# 🔅 Task 4.1"
   ]
  },
  {
   "cell_type": "markdown",
   "id": "5029b524",
   "metadata": {},
   "source": [
    "# 📌 Create image by yourself Using Python Code"
   ]
  },
  {
   "cell_type": "code",
   "execution_count": 24,
   "id": "51145878",
   "metadata": {},
   "outputs": [],
   "source": [
    "import cv2\n",
    "import numpy as np"
   ]
  },
  {
   "cell_type": "code",
   "execution_count": 25,
   "id": "ead410dc",
   "metadata": {},
   "outputs": [],
   "source": [
    "size= 600,600,3\n",
    "zero=np.zeros(size, dtype=np.uint8)"
   ]
  },
  {
   "cell_type": "code",
   "execution_count": 26,
   "id": "bb80c9c0",
   "metadata": {},
   "outputs": [],
   "source": [
    "zero[0:200,0:200]=[255,153,51] \n",
    "zero[0:200,200:400]=[0,0,0]\n",
    "zero[0:200,400:600]=[0,255,255]\n",
    "zero[200:400,0:200]=[204,0,204]\n",
    "zero[200:400,200:400]=[0,255,128]\n",
    "zero[200:400,400:600]=[0,0,255]\n",
    "zero[400:600,0:200]=[0,102,204]\n",
    "zero[400:600,200:400]=[51,153,255]\n",
    "zero[400:600,400:600]=[0,153,0]"
   ]
  },
  {
   "cell_type": "code",
   "execution_count": 27,
   "id": "1691ef0b",
   "metadata": {},
   "outputs": [],
   "source": [
    "cv2.imshow(\"Title\", zero)\n",
    "cv2.waitKey()\n",
    "cv2.destroyAllWindows()"
   ]
  },
  {
   "cell_type": "code",
   "execution_count": null,
   "id": "135c6d53",
   "metadata": {},
   "outputs": [],
   "source": []
  }
 ],
 "metadata": {
  "kernelspec": {
   "display_name": "Python 3",
   "language": "python",
   "name": "python3"
  },
  "language_info": {
   "codemirror_mode": {
    "name": "ipython",
    "version": 3
   },
   "file_extension": ".py",
   "mimetype": "text/x-python",
   "name": "python",
   "nbconvert_exporter": "python",
   "pygments_lexer": "ipython3",
   "version": "3.8.2"
  }
 },
 "nbformat": 4,
 "nbformat_minor": 5
}
