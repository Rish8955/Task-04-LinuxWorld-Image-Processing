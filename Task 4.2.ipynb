{
 "cells": [
  {
   "cell_type": "markdown",
   "id": "751e61ad",
   "metadata": {},
   "source": [
    "# 🔅 Task 4.2"
   ]
  },
  {
   "cell_type": "markdown",
   "id": "fc156712",
   "metadata": {},
   "source": [
    "# 📌 Take 2 image crop some part of both image and swap it. "
   ]
  },
  {
   "cell_type": "code",
   "execution_count": 1,
   "id": "21688246",
   "metadata": {},
   "outputs": [],
   "source": [
    "import cv2"
   ]
  },
  {
   "cell_type": "code",
   "execution_count": 2,
   "id": "06e52fa8",
   "metadata": {},
   "outputs": [],
   "source": [
    "image1 = cv2.imread('image1.jpg')\n",
    "image2 = cv2.imread('image2.jpg')"
   ]
  },
  {
   "cell_type": "code",
   "execution_count": 3,
   "id": "3c97593a",
   "metadata": {},
   "outputs": [],
   "source": [
    "cv2.imshow(\"Title\", image1)\n",
    "cv2.waitKey()\n",
    "cv2.destroyAllWindows()"
   ]
  },
  {
   "cell_type": "code",
   "execution_count": 4,
   "id": "e03aa7e7",
   "metadata": {},
   "outputs": [],
   "source": [
    "cv2.imshow(\"title\",image2)\n",
    "cv2.waitKey()\n",
    "cv2.destroyAllWindows()"
   ]
  },
  {
   "cell_type": "code",
   "execution_count": 5,
   "id": "7579faa3",
   "metadata": {},
   "outputs": [],
   "source": [
    "pict2 = cv2.imread('image1.jpg')\n",
    "pict2[50:100,250:300] = image2[50:100,250:300]"
   ]
  },
  {
   "cell_type": "code",
   "execution_count": 6,
   "id": "51cc08a5",
   "metadata": {},
   "outputs": [],
   "source": [
    "cv2.imshow(\"title\",pict2)\n",
    "cv2.waitKey()\n",
    "cv2.destroyAllWindows()"
   ]
  },
  {
   "cell_type": "code",
   "execution_count": 7,
   "id": "74e37a61",
   "metadata": {},
   "outputs": [],
   "source": [
    "pict1 = cv2.imread('image2.jpg')\n",
    "pict1[50:100,250:300] = image1[50:100,250:300]"
   ]
  },
  {
   "cell_type": "code",
   "execution_count": 8,
   "id": "4b11b784",
   "metadata": {},
   "outputs": [],
   "source": [
    "cv2.imshow(\"title\",pict1)\n",
    "cv2.waitKey()\n",
    "cv2.destroyAllWindows()"
   ]
  },
  {
   "cell_type": "code",
   "execution_count": null,
   "id": "f8a0be06",
   "metadata": {},
   "outputs": [],
   "source": []
  }
 ],
 "metadata": {
  "kernelspec": {
   "display_name": "Python 3",
   "language": "python",
   "name": "python3"
  },
  "language_info": {
   "codemirror_mode": {
    "name": "ipython",
    "version": 3
   },
   "file_extension": ".py",
   "mimetype": "text/x-python",
   "name": "python",
   "nbconvert_exporter": "python",
   "pygments_lexer": "ipython3",
   "version": "3.8.2"
  }
 },
 "nbformat": 4,
 "nbformat_minor": 5
}
