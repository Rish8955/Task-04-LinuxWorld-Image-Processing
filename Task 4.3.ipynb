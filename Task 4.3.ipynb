{
 "cells": [
  {
   "cell_type": "markdown",
   "id": "e02763fe",
   "metadata": {},
   "source": [
    "# 🔅 Task 4.3"
   ]
  },
  {
   "cell_type": "markdown",
   "id": "9eafbc76",
   "metadata": {},
   "source": [
    "# 📌 Take 2 image and combine it to form single image. For example collage "
   ]
  },
  {
   "cell_type": "code",
   "execution_count": 10,
   "id": "e221961c",
   "metadata": {},
   "outputs": [],
   "source": [
    "import cv2\n",
    "import numpy as np"
   ]
  },
  {
   "cell_type": "code",
   "execution_count": 11,
   "id": "a2683bbd",
   "metadata": {},
   "outputs": [],
   "source": [
    "image1 = cv2.imread('virat.jpg')\n",
    "image2 = cv2.imread('sehwag.webp')"
   ]
  },
  {
   "cell_type": "code",
   "execution_count": 12,
   "id": "3559486e",
   "metadata": {},
   "outputs": [
    {
     "data": {
      "text/plain": [
       "(800, 1000, 3)"
      ]
     },
     "execution_count": 12,
     "metadata": {},
     "output_type": "execute_result"
    }
   ],
   "source": [
    "image1.shape"
   ]
  },
  {
   "cell_type": "code",
   "execution_count": 13,
   "id": "967df092",
   "metadata": {},
   "outputs": [
    {
     "data": {
      "text/plain": [
       "(605, 806, 3)"
      ]
     },
     "execution_count": 13,
     "metadata": {},
     "output_type": "execute_result"
    }
   ],
   "source": [
    "image2.shape"
   ]
  },
  {
   "cell_type": "code",
   "execution_count": 14,
   "id": "ffb5e31b",
   "metadata": {},
   "outputs": [
    {
     "data": {
      "text/plain": [
       "(605, 806, 3)"
      ]
     },
     "execution_count": 14,
     "metadata": {},
     "output_type": "execute_result"
    }
   ],
   "source": [
    "image1 = cv2.resize(image1,(806, 605), interpolation = cv2.INTER_AREA)\n",
    "image1.shape"
   ]
  },
  {
   "cell_type": "code",
   "execution_count": 15,
   "id": "fba72ee1",
   "metadata": {},
   "outputs": [],
   "source": [
    "cv2.imshow(\"Title\", image1)\n",
    "cv2.waitKey()\n",
    "cv2.destroyAllWindows()"
   ]
  },
  {
   "cell_type": "code",
   "execution_count": 16,
   "id": "85a93c86",
   "metadata": {},
   "outputs": [],
   "source": [
    "cv2.imshow(\"Title\", image2)\n",
    "cv2.waitKey()\n",
    "cv2.destroyAllWindows()"
   ]
  },
  {
   "cell_type": "code",
   "execution_count": 17,
   "id": "c24d2571",
   "metadata": {},
   "outputs": [],
   "source": [
    "image3 = np.hstack((image1,image2))"
   ]
  },
  {
   "cell_type": "code",
   "execution_count": 18,
   "id": "3035cd6f",
   "metadata": {},
   "outputs": [],
   "source": [
    "cv2.imshow(\"Title\", image3)\n",
    "cv2.waitKey()\n",
    "cv2.destroyAllWindows()"
   ]
  },
  {
   "cell_type": "code",
   "execution_count": null,
   "id": "002f3740",
   "metadata": {},
   "outputs": [],
   "source": []
  }
 ],
 "metadata": {
  "kernelspec": {
   "display_name": "Python 3",
   "language": "python",
   "name": "python3"
  },
  "language_info": {
   "codemirror_mode": {
    "name": "ipython",
    "version": 3
   },
   "file_extension": ".py",
   "mimetype": "text/x-python",
   "name": "python",
   "nbconvert_exporter": "python",
   "pygments_lexer": "ipython3",
   "version": "3.8.2"
  }
 },
 "nbformat": 4,
 "nbformat_minor": 5
}
